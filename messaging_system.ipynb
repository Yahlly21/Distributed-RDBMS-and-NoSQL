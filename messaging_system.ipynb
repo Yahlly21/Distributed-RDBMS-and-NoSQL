{
 "cells": [
  {
   "cell_type": "markdown",
   "id": "f4f8e76b",
   "metadata": {},
   "source": [
    "<center><br><font size=12> Big data course - project 1 </font><br>\n",
    "    <br>\n",
    "<br>\n",
    "<b> Yahlly schein <b>     <br>\n",
    "<b> Liya Gurevitch<b>    <br>\n",
    "<b> 7.2.2024  <b>    <br>"
   ]
  },
  {
   "cell_type": "markdown",
   "id": "3d0be1e6",
   "metadata": {},
   "source": [
    " # Assumptions\n",
    " \n",
    " ## General\n",
    "1. If the redis was restated (for any reason) the recovery function will run automaticlly.\n",
    "2. We save a partial inforamtion in the redis for the queries in the system - O(1) operation\n",
    "3. All the information is stored in MongoDB\n",
    "4. We have saved another attribute (Messgae ID) for \"send message\" function so we will be able to store it in redis\n",
    "\n",
    "## Specific \"edge cases\":\n",
    "1. Some edge cases tests are implemented in the code with conditions - Michael said it won't be the main thing he is going to check\n",
    "2. Remove device function - a user wouldnt ask to delete a device which is not on his devices list\n",
    "3. Start conversation function - a conversation will be initiated by a device which belongs to the user!\n",
    "4. In the function \"count conversations by device type\" we are only interested in devices that are in the system (and haven't been deleted). If we hadn't took this assumption we could have easily save the initiating device OS type as another attribute of the conversation and sum all there values..."
   ]
  },
  {
   "cell_type": "markdown",
   "id": "0b2027e3",
   "metadata": {},
   "source": [
    "# Settings"
   ]
  },
  {
   "cell_type": "code",
   "execution_count": null,
   "id": "6862a36a",
   "metadata": {},
   "outputs": [],
   "source": [
    "# ! pip install pymongo\n",
    "# ! pip install redis"
   ]
  },
  {
   "cell_type": "markdown",
   "id": "f2d2691b",
   "metadata": {},
   "source": [
    "## Imports"
   ]
  },
  {
   "cell_type": "code",
   "execution_count": 10,
   "id": "1112ca93",
   "metadata": {
    "ExecuteTime": {
     "end_time": "2024-02-12T14:18:07.288708Z",
     "start_time": "2024-02-12T14:18:07.284308Z"
    }
   },
   "outputs": [],
   "source": [
    "import redis\n",
    "import pymongo\n",
    "from pymongo import MongoClient\n",
    "\n",
    "import pandas as pd\n",
    "import pprint\n",
    "from datetime import datetime\n",
    "import time\n",
    "import json"
   ]
  },
  {
   "cell_type": "markdown",
   "id": "fe5b86ab",
   "metadata": {},
   "source": [
    "## redis and mongodb info "
   ]
  },
  {
   "cell_type": "code",
   "execution_count": 11,
   "id": "3b36c93d",
   "metadata": {
    "ExecuteTime": {
     "end_time": "2024-02-12T14:18:07.661364Z",
     "start_time": "2024-02-12T14:18:07.655954Z"
    }
   },
   "outputs": [],
   "source": [
    "# mongo info:\n",
    "m_username = \"bdl-mongodb-group11\"\n",
    "m_password = \"xrQkHaWBCmsFjZ1Y\"\n",
    "m_group = \"group11\"\n",
    "\n",
    "\n",
    "#redis info:\n",
    "r_host = 'redis-15757.c321.us-east-1-2.ec2.cloud.redislabs.com'\n",
    "r_port = 15757\n",
    "r_username = \"bdl-redis-group11\"\n",
    "r_passwd = \"h2Ey5S6$u$\"\n",
    "r_decode_responses=True"
   ]
  },
  {
   "cell_type": "markdown",
   "id": "18786469",
   "metadata": {},
   "source": [
    "## Initialization"
   ]
  },
  {
   "cell_type": "code",
   "execution_count": 12,
   "id": "8ee5ada6",
   "metadata": {
    "ExecuteTime": {
     "end_time": "2024-02-12T14:18:08.249867Z",
     "start_time": "2024-02-12T14:18:08.241771Z"
    }
   },
   "outputs": [],
   "source": [
    "def redis_connection(host_name=r_host, passwd=r_passwd, username=r_username, port_num = r_port):\n",
    "  \"\"\"\n",
    "  connecting to the redis with the given host and passward for group 11\n",
    "  \"\"\"\n",
    "  r = redis.Redis(host=host_name, \n",
    "                  port=port_num,\n",
    "                  username=username,\n",
    "                  password=passwd,\n",
    "                  decode_responses=True)\n",
    "  return r\n",
    "\n",
    " \n",
    "def mongo_connection(username=m_username, passwd=m_password):\n",
    "  client = MongoClient(\"mongodb+srv://{}:{}@cluster0.xzksgtp.mongodb.net/?retryWrites=true&w=majority\".format(username, passwd))\n",
    "  return client"
   ]
  },
  {
   "cell_type": "code",
   "execution_count": 13,
   "id": "edd1ccb2",
   "metadata": {
    "ExecuteTime": {
     "end_time": "2024-02-12T14:18:08.508328Z",
     "start_time": "2024-02-12T14:18:08.498412Z"
    }
   },
   "outputs": [],
   "source": [
    "def setup_mongo(client, group):\n",
    "    db = client[group]\n",
    "    users_collection = db.users\n",
    "    conversations_collection = db.conversations\n",
    "    print(\"users_collection created in {} db\".format(group))\n",
    "    print(\"conversations_collection created in {} db\".format(group))\n",
    "    return db, users_collection, conversations_collection\n",
    "\n",
    "def reset_redis(r):\n",
    "    r.flushdb()\n",
    "    print('redis database is clean')\n",
    "\n",
    "def reset_mongo(client, group=\"group11\"):\n",
    "    client[group].users.drop()\n",
    "    client[group].conversations.drop()\n",
    "    print(\"mongo is clean\")\n",
    "\n",
    "def restart():\n",
    "    # connect to dbs\n",
    "    r = redis_connection()\n",
    "    client = mongo_connection()\n",
    "    # clean dbs\n",
    "    reset_redis(r)\n",
    "    reset_mongo(client)\n",
    "    # setup the databases\n",
    "    db, users_collection, conversations_collection = setup_mongo(client, \"group11\")\n",
    "    print(\"restart completed\")\n",
    "    return r, client, db, users_collection, conversations_collection"
   ]
  },
  {
   "cell_type": "markdown",
   "id": "bc5a4c9e",
   "metadata": {},
   "source": [
    "## Restart everything"
   ]
  },
  {
   "cell_type": "code",
   "execution_count": 14,
   "id": "64be31a9",
   "metadata": {
    "ExecuteTime": {
     "end_time": "2024-02-12T14:18:29.171376Z",
     "start_time": "2024-02-12T14:18:09.841069Z"
    },
    "scrolled": true
   },
   "outputs": [
    {
     "name": "stdout",
     "output_type": "stream",
     "text": [
      "redis database is clean\n",
      "mongo is clean\n",
      "users_collection created in group11 db\n",
      "conversations_collection created in group11 db\n",
      "restart completed\n"
     ]
    }
   ],
   "source": [
    "r, client, db, users_collection, conversations_collection = restart()"
   ]
  },
  {
   "cell_type": "markdown",
   "id": "2000cf5a",
   "metadata": {},
   "source": [
    "# Operations"
   ]
  },
  {
   "cell_type": "markdown",
   "id": "219f2a09",
   "metadata": {
    "ExecuteTime": {
     "end_time": "2024-01-30T17:19:55.335786Z",
     "start_time": "2024-01-30T17:19:55.329423Z"
    }
   },
   "source": [
    "## add user function"
   ]
  },
  {
   "cell_type": "code",
   "execution_count": 18,
   "id": "77db4b62",
   "metadata": {
    "ExecuteTime": {
     "end_time": "2024-02-12T14:18:56.357894Z",
     "start_time": "2024-02-12T14:18:56.352427Z"
    }
   },
   "outputs": [],
   "source": [
    "# ID will be saved in redis and mongo will contain all the info including the ID.\n",
    "def add_user(user):\n",
    "    if not r.exists('group11:last_user_id'):\n",
    "        r.set('group11:last_user_id', 0)\n",
    "        \n",
    "    new_id = r.incr('group11:last_user_id')\n",
    "    new_date = datetime.now().strftime(\"%d/%m/%Y\")\n",
    "    \n",
    "    user['user_id'] = new_id\n",
    "    user['system_joining_date'] = new_date\n",
    "    user['devices'] = [] # initiate devices list\n",
    "    \n",
    "    users_collection.insert_one(user)\n",
    "\n",
    "    r.set(f'group11:user:user_id:{user[\"user_id\"]}', user['user_id'])\n",
    "    print(f\"{user['user_first_name']} {user['user_last_name']} Added successfully!\")\n",
    "    return new_id"
   ]
  },
  {
   "cell_type": "code",
   "execution_count": 20,
   "id": "986287c7",
   "metadata": {
    "ExecuteTime": {
     "end_time": "2024-02-12T14:18:58.924748Z",
     "start_time": "2024-02-12T14:18:58.318205Z"
    }
   },
   "outputs": [
    {
     "name": "stdout",
     "output_type": "stream",
     "text": [
      "John Snow Added successfully!\n",
      "New user added with ID: 3\n"
     ]
    }
   ],
   "source": [
    "new_user_id = add_user({'user_first_name': 'John', 'user_last_name': 'Snow'})\n",
    "print(f\"New user added with ID: {new_user_id}\")"
   ]
  },
  {
   "cell_type": "code",
   "execution_count": 17,
   "id": "2c2e80b4",
   "metadata": {
    "ExecuteTime": {
     "end_time": "2024-02-12T14:18:51.227429Z",
     "start_time": "2024-02-12T14:18:51.059592Z"
    }
   },
   "outputs": [
    {
     "name": "stdout",
     "output_type": "stream",
     "text": [
      "{'_id': ObjectId('65ca28ca6ac98da4ac21732f'),\n",
      " 'devices': [],\n",
      " 'system_joining_date': '12/02/2024',\n",
      " 'user_first_name': 'John',\n",
      " 'user_id': 1,\n",
      " 'user_last_name': 'Snow'}\n"
     ]
    }
   ],
   "source": [
    "a = users_collection.find_one({\"user_id\": 1})\n",
    "pprint.pprint(a)"
   ]
  },
  {
   "cell_type": "markdown",
   "id": "91d80caa",
   "metadata": {
    "ExecuteTime": {
     "end_time": "2024-01-30T18:21:10.965189Z",
     "start_time": "2024-01-30T18:21:10.961413Z"
    }
   },
   "source": [
    "## register device function"
   ]
  },
  {
   "cell_type": "code",
   "execution_count": 21,
   "id": "5f599081",
   "metadata": {
    "ExecuteTime": {
     "end_time": "2024-02-12T14:19:07.834886Z",
     "start_time": "2024-02-12T14:19:07.825750Z"
    }
   },
   "outputs": [],
   "source": [
    "# ID will be saved in redis and mongo will contain all the info including the ID.\n",
    "def register_device(device, user_id):\n",
    "    if not r.exists('group11:last_device_id'):\n",
    "        r.set('group11:last_device_id', 0)\n",
    "        \n",
    "    new_id = r.incr('group11:last_device_id')\n",
    "    new_date = datetime.now().strftime(\"%d/%m/%Y\")\n",
    "    \n",
    "    device['device_id'] = new_id\n",
    "    device['device_registration_date'] = new_date\n",
    "    users_collection.update_one({\"user_id\": user_id}, {\"$push\": {\"devices\": device}})\n",
    "    \n",
    "    # Set in redis (so \"remove_device\" function could delete it in O(1))\n",
    "    r.set(f'group11:devices:user_id:{user_id}:device_id:{new_id}', new_id)\n",
    "    \n",
    "    print(f\"{device['device_name']} {device['device_os_type']} {device['device_manufacturer_name']} Added successfully!\")\n",
    "    return new_id"
   ]
  },
  {
   "cell_type": "code",
   "execution_count": 45,
   "id": "6e49b5cf",
   "metadata": {
    "ExecuteTime": {
     "end_time": "2024-02-12T14:22:37.894544Z",
     "start_time": "2024-02-12T14:22:37.283505Z"
    }
   },
   "outputs": [
    {
     "name": "stdout",
     "output_type": "stream",
     "text": [
      "MySamsung Android Samsung Added successfully!\n",
      "New device added with ID: 5\n"
     ]
    }
   ],
   "source": [
    "new_device_id = register_device(device={'device_name': 'MySamsung', 'device_os_type': 'Android',\n",
    "'device_manufacturer_name': 'Samsung'}, user_id=1)\n",
    "print(f\"New device added with ID: {new_device_id}\")"
   ]
  },
  {
   "cell_type": "code",
   "execution_count": 46,
   "id": "d49dc450",
   "metadata": {
    "ExecuteTime": {
     "end_time": "2024-02-12T14:22:38.897256Z",
     "start_time": "2024-02-12T14:22:38.739640Z"
    }
   },
   "outputs": [
    {
     "name": "stdout",
     "output_type": "stream",
     "text": [
      "{'_id': ObjectId('65ca28ca6ac98da4ac21732f'),\n",
      " 'devices': [{'device_id': 1,\n",
      "              'device_manufacturer_name': 'Samsung',\n",
      "              'device_name': 'MySamsung',\n",
      "              'device_os_type': 'Android',\n",
      "              'device_registration_date': '12/02/2024'},\n",
      "             {'device_id': 2,\n",
      "              'device_manufacturer_name': 'Samsung',\n",
      "              'device_name': 'MySamsung',\n",
      "              'device_os_type': 'Android2',\n",
      "              'device_registration_date': '12/02/2024'},\n",
      "             {'device_id': 5,\n",
      "              'device_manufacturer_name': 'Samsung',\n",
      "              'device_name': 'MySamsung',\n",
      "              'device_os_type': 'Android',\n",
      "              'device_registration_date': '12/02/2024'}],\n",
      " 'system_joining_date': '12/02/2024',\n",
      " 'user_first_name': 'John',\n",
      " 'user_id': 1,\n",
      " 'user_last_name': 'Snow'}\n"
     ]
    }
   ],
   "source": [
    "a = users_collection.find_one({\"user_id\": 1})\n",
    "pprint.pprint(a)"
   ]
  },
  {
   "cell_type": "markdown",
   "id": "0c919aa0",
   "metadata": {},
   "source": [
    "## start conversation function"
   ]
  },
  {
   "cell_type": "code",
   "execution_count": 26,
   "id": "9f4b7131",
   "metadata": {
    "ExecuteTime": {
     "end_time": "2024-02-12T14:19:45.109986Z",
     "start_time": "2024-02-12T14:19:45.098528Z"
    }
   },
   "outputs": [],
   "source": [
    "# ID and status will be saved in redis and mongo will contain all the info.\n",
    "def start_conversation(user_group, initiating_user_id, initiating_user_device_id):\n",
    "    # a user group can contain at most 10 users.\n",
    "    if len(user_group[\"user_ids\"]) > 10:\n",
    "        raise ValueError(f\"The user group {user_group['group_name']} can contain 10 users at most - remove some\")\n",
    "    if initiating_user_id not in user_group[\"user_ids\"]:\n",
    "        raise ValueError(f\"The user {initiating_user_id} is not in the group he wants to create - forbidden\")\n",
    "    if not r.exists('group11:last_conversation_id'):\n",
    "        r.set('group11:last_conversation_id', 0)\n",
    "        \n",
    "    new_id = r.incr('group11:last_conversation_id')\n",
    "    new_date = datetime.now().strftime(\"%d/%m/%Y %H:%M\")\n",
    "    \n",
    "    conversation = {}\n",
    "    conversation['conversation_id'] = new_id\n",
    "    conversation['conversation_start_datetime'] = new_date\n",
    "    conversation['initiating_user_id'] = initiating_user_id\n",
    "    conversation['initiating_user_device_id'] = initiating_user_device_id\n",
    "    conversation['user_group'] = user_group\n",
    "    conversation['messages'] = [] # initiate messages list\n",
    "    \n",
    "    conversations_collection.insert_one(conversation)\n",
    "    \n",
    "    # Set the values of the converation in redis (id and ststus)\n",
    "    r.set(f'group11:conversation:conversation_id:{new_id}', new_id)\n",
    "    r.set(f'group11:conversation:conversation_status:{new_id}', \"open\")\n",
    "    \n",
    "    \n",
    "    # Insert into redis the users in the conversation\n",
    "    for user_id in user_group[\"user_ids\"]:\n",
    "        r.set(f'group11:user_in_conv:conversation_id:{new_id}:user_id:{user_id}', user_id)\n",
    "        \n",
    "        \n",
    "    # set/ update a counter for report 4.1 (num of conversations)\n",
    "    for user_id in user_group[\"user_ids\"]:\n",
    "        active_conversations_key = f'group11:user:{user_id}:active_conversations'\n",
    "        if not r.exists(active_conversations_key):\n",
    "            r.set(active_conversations_key, 1)\n",
    "        else:\n",
    "            r.incr(active_conversations_key)\n",
    "            \n",
    "            \n",
    "    # set a counter for report 4.2 (max num of messgaes)\n",
    "    max_messages_key = 'group11:max_num_messages'\n",
    "    if not r.exists(max_messages_key):\n",
    "        r.set(max_messages_key, 0)\n",
    "  \n",
    "    print(f\"{user_group} Added successfully!\")\n",
    "    return new_id"
   ]
  },
  {
   "cell_type": "code",
   "execution_count": 29,
   "id": "79291fa3",
   "metadata": {
    "ExecuteTime": {
     "end_time": "2024-02-12T14:20:38.529885Z",
     "start_time": "2024-02-12T14:20:36.290288Z"
    }
   },
   "outputs": [
    {
     "name": "stdout",
     "output_type": "stream",
     "text": [
      "{'group_name': 'Friends3', 'user_ids': [1, 2, 3]} Added successfully!\n",
      "New conversation added with ID: 3\n"
     ]
    }
   ],
   "source": [
    "new_conversation_id = start_conversation(user_group={'group_name': 'Friends3', 'user_ids': [1, 2, 3]},\n",
    "initiating_user_id=1, initiating_user_device_id=1)\n",
    "\n",
    "print(f\"New conversation added with ID: {new_conversation_id}\")"
   ]
  },
  {
   "cell_type": "code",
   "execution_count": 24,
   "id": "75eb304a",
   "metadata": {
    "ExecuteTime": {
     "end_time": "2024-02-11T10:41:37.460124Z",
     "start_time": "2024-02-11T10:41:37.253614Z"
    },
    "scrolled": false
   },
   "outputs": [
    {
     "name": "stdout",
     "output_type": "stream",
     "text": [
      "{'_id': ObjectId('65c8a446b649b1988dc15360'),\n",
      " 'conversation_id': 1,\n",
      " 'conversation_start_datetime': '11/02/2024 12:41',\n",
      " 'initiating_user_device_id': 1,\n",
      " 'initiating_user_id': 1,\n",
      " 'messages': [],\n",
      " 'user_group': {'group_name': 'Friends', 'user_ids': [1, 2, 3]}}\n"
     ]
    }
   ],
   "source": [
    "a = conversations_collection.find_one({\"conversation_id\": 1})\n",
    "pprint.pprint(a)"
   ]
  },
  {
   "cell_type": "markdown",
   "id": "53885357",
   "metadata": {},
   "source": [
    "## end conversation function"
   ]
  },
  {
   "cell_type": "code",
   "execution_count": 30,
   "id": "12d7720c",
   "metadata": {
    "ExecuteTime": {
     "end_time": "2024-02-12T14:20:47.255680Z",
     "start_time": "2024-02-12T14:20:47.246074Z"
    }
   },
   "outputs": [],
   "source": [
    "# status will be updated in both redis and details in mongo.\n",
    "def end_conversation(conversation_id, closing_user_id):\n",
    "    if r.get(f\"group11:conversation:conversation_status:{conversation_id}\") == \"closed\":\n",
    "        raise ValueError(\"This converation is already ended\")\n",
    "    if not r.exists(f'group11:conversation:conversation_id:{conversation_id}'):\n",
    "        raise ValueError(\"You can't delete a conversation that does not exist.\")\n",
    "    if not r.exists(f'group11:user:user_id:{closing_user_id}'):\n",
    "        raise ValueError(\"An unexisting user cant make any actions.\")\n",
    "        \n",
    "    ending_date = datetime.now().strftime(\"%d/%m/%Y %H:%M\")\n",
    "    \n",
    "    #set in mongo\n",
    "    conversations_collection.update_one({\"conversation_id\": conversation_id}, {\"$set\": {\"conversation_end_datetime\": ending_date}})\n",
    "    conversations_collection.update_one({\"conversation_id\": conversation_id}, {\"$set\": {\"closing_user_id\": closing_user_id}})\n",
    "    \n",
    "    #set in redis\n",
    "    r.set(f'group11:conversation:conversation_status:{conversation_id}', 'closed')\n",
    "    \n",
    "    # update the counter for report 4.1 (num of conversations) -1\n",
    "    for user_id in conversations_collection.find_one({\"conversation_id\": 1})['user_group']['user_ids']:\n",
    "        active_conversations_key = f'group11:user:{user_id}:active_conversations'\n",
    "        r.decr(active_conversations_key)\n",
    "            \n",
    "    print(f\"Conversation {conversation_id} ended successfully!\")\n",
    "    return conversation_id"
   ]
  },
  {
   "cell_type": "code",
   "execution_count": 31,
   "id": "7e143e6e",
   "metadata": {
    "ExecuteTime": {
     "end_time": "2024-02-12T14:20:55.169442Z",
     "start_time": "2024-02-12T14:20:53.657227Z"
    }
   },
   "outputs": [
    {
     "name": "stdout",
     "output_type": "stream",
     "text": [
      "Conversation 2 ended successfully!\n",
      "New conversation ended with ID: 2\n"
     ]
    }
   ],
   "source": [
    "ending_conversation_id = end_conversation(conversation_id=2, closing_user_id=1)\n",
    "print(f\"New conversation ended with ID: {ending_conversation_id}\")"
   ]
  },
  {
   "cell_type": "code",
   "execution_count": 32,
   "id": "ddc4f2d1",
   "metadata": {
    "ExecuteTime": {
     "end_time": "2024-02-12T14:20:56.659465Z",
     "start_time": "2024-02-12T14:20:56.499036Z"
    }
   },
   "outputs": [
    {
     "name": "stdout",
     "output_type": "stream",
     "text": [
      "{'_id': ObjectId('65ca29256ac98da4ac217333'),\n",
      " 'closing_user_id': 1,\n",
      " 'conversation_end_datetime': '12/02/2024 16:20',\n",
      " 'conversation_id': 2,\n",
      " 'conversation_start_datetime': '12/02/2024 16:20',\n",
      " 'initiating_user_device_id': 2,\n",
      " 'initiating_user_id': 1,\n",
      " 'messages': [],\n",
      " 'user_group': {'group_name': 'Friends', 'user_ids': [1, 2, 3]}}\n"
     ]
    }
   ],
   "source": [
    "a = conversations_collection.find_one({\"conversation_id\": 2})\n",
    "pprint.pprint(a)"
   ]
  },
  {
   "cell_type": "markdown",
   "id": "130b0150",
   "metadata": {},
   "source": [
    "## send message function"
   ]
  },
  {
   "cell_type": "code",
   "execution_count": 33,
   "id": "c370818b",
   "metadata": {
    "ExecuteTime": {
     "end_time": "2024-02-12T14:21:04.104575Z",
     "start_time": "2024-02-12T14:21:04.091770Z"
    }
   },
   "outputs": [],
   "source": [
    "## This operation is performed at a run time complexity of O(1) in redis only (as required).\n",
    "def send_message(user_id, conversation_id, message_content):\n",
    "    if not r.exists(f'group11:conversation:conversation_id:{conversation_id}'):\n",
    "        raise ValueError(f\"The conversation {conversation_id} is not in the data base\")\n",
    "        \n",
    "    # This operation is valid only if the conversation has not been closed    \n",
    "    if r.get(f'group11:conversation:conversation_status:{conversation_id}') == \"closed\":\n",
    "        raise ValueError(f\"The conversation {conversation_id} is closed. You can't send a message in a closed group\")\n",
    "    \n",
    "    # initiate an id for saving in redis\n",
    "    if not r.exists('group11:last_message_id'):\n",
    "        r.set('group11:last_message_id', 0)\n",
    "    message_id = r.incr('group11:last_message_id')\n",
    "    \n",
    "    message_date = datetime.now().strftime(\"%d/%m/%Y %H:%M\")\n",
    "    \n",
    "    message = {}\n",
    "    message['user_id'] = user_id\n",
    "    message['message_content'] = message_content\n",
    "    message['message_datetime'] = message_date\n",
    "    message['message_id'] = message_id\n",
    "    \n",
    "    #set in mongo\n",
    "    conversations_collection.update_one({\"conversation_id\": conversation_id}, {\"$push\": {\"messages\": message}})\n",
    "    \n",
    "    #set in redis (in O(1))\n",
    "    r.set(f'group11:message:message_id:{message_id}', message_content)\n",
    "    \n",
    "    \n",
    "    # Calculations for report 4.2\n",
    "    num_messages_key = f'group11:user:{user_id}:num_messages'\n",
    "    if not r.exists(num_messages_key):\n",
    "        r.set(num_messages_key, 1)\n",
    "    else:\n",
    "        r.incr(num_messages_key)\n",
    "    \n",
    "    current_user_num_messages = int(r.get(num_messages_key))\n",
    "    if current_user_num_messages > int(r.get('group11:max_num_messages')):\n",
    "        r.set('group11:max_num_messages', current_user_num_messages)\n",
    "        r.set('group11:user:max_num_messages', user_id)\n",
    "    \n",
    "    print(f\"User {user_id} sent a meaasge to conversation {conversation_id} successfully!\")\n",
    "    return message_id"
   ]
  },
  {
   "cell_type": "code",
   "execution_count": 38,
   "id": "c909cee4",
   "metadata": {
    "ExecuteTime": {
     "end_time": "2024-02-12T14:21:34.918984Z",
     "start_time": "2024-02-12T14:21:33.427813Z"
    }
   },
   "outputs": [
    {
     "name": "stdout",
     "output_type": "stream",
     "text": [
      "User 2 sent a meaasge to conversation 1 successfully!\n",
      "New message sent with ID: 5\n"
     ]
    }
   ],
   "source": [
    "messgae_id = send_message(user_id=2, conversation_id=1, message_content='Hi everyone, it is great to join the conversation!!!')\n",
    "print(f\"New message sent with ID: {messgae_id}\")"
   ]
  },
  {
   "cell_type": "code",
   "execution_count": 39,
   "id": "f849d157",
   "metadata": {
    "ExecuteTime": {
     "end_time": "2024-02-12T14:21:36.450706Z",
     "start_time": "2024-02-12T14:21:36.288878Z"
    }
   },
   "outputs": [
    {
     "name": "stdout",
     "output_type": "stream",
     "text": [
      "{'_id': ObjectId('65ca291b6ac98da4ac217332'),\n",
      " 'conversation_id': 1,\n",
      " 'conversation_start_datetime': '12/02/2024 16:20',\n",
      " 'initiating_user_device_id': 1,\n",
      " 'initiating_user_id': 1,\n",
      " 'messages': [{'message_content': 'Hi everyone, it is great to join the '\n",
      "                                  'conversation!!!',\n",
      "               'message_datetime': '12/02/2024 16:21',\n",
      "               'message_id': 1,\n",
      "               'user_id': 1},\n",
      "              {'message_content': 'Hi everyone, it is great to join the '\n",
      "                                  'conversation!!!',\n",
      "               'message_datetime': '12/02/2024 16:21',\n",
      "               'message_id': 4,\n",
      "               'user_id': 1},\n",
      "              {'message_content': 'Hi everyone, it is great to join the '\n",
      "                                  'conversation!!!',\n",
      "               'message_datetime': '12/02/2024 16:21',\n",
      "               'message_id': 5,\n",
      "               'user_id': 2}],\n",
      " 'user_group': {'group_name': 'Friends', 'user_ids': [1, 2, 3]}}\n"
     ]
    }
   ],
   "source": [
    "a = conversations_collection.find_one({\"conversation_id\": 1})\n",
    "pprint.pprint(a)"
   ]
  },
  {
   "cell_type": "markdown",
   "id": "33157efe",
   "metadata": {},
   "source": [
    "## remove device function"
   ]
  },
  {
   "cell_type": "code",
   "execution_count": 40,
   "id": "8aa17afc",
   "metadata": {
    "ExecuteTime": {
     "end_time": "2024-02-12T14:21:46.784781Z",
     "start_time": "2024-02-12T14:21:46.777624Z"
    }
   },
   "outputs": [],
   "source": [
    "## This operation is performed at a run time complexity of O(1) in redis only (as required).\n",
    "def remove_device(user_id, device_id):\n",
    "    #Find the user and check if the device exists in the 'devices' array\n",
    "    user_device = users_collection.find_one({\"user_id\": user_id, \"devices.device_id\": device_id})\n",
    "    if not user_device:\n",
    "        raise ValueError(f\"Device {device_id} was not found for User {user_id} therefor it cant be deleted\")\n",
    "   \n",
    "    #delete from mongo\n",
    "    users_collection.update_one({\"user_id\": user_id}, {\"$pull\": {\"devices\": {\"device_id\": device_id}}})\n",
    "    \n",
    "    #delete from redis in O(1)\n",
    "    r.delete(f'group11:devices:user_id:{user_id}:device_id:{device_id}')\n",
    "\n",
    "    print(f\"Device {device_id} deleted from User {user_id} successfully!\")\n",
    "    return device_id"
   ]
  },
  {
   "cell_type": "code",
   "execution_count": 47,
   "id": "1d6d3309",
   "metadata": {
    "ExecuteTime": {
     "end_time": "2024-02-12T14:22:54.188581Z",
     "start_time": "2024-02-12T14:22:53.723716Z"
    }
   },
   "outputs": [
    {
     "name": "stdout",
     "output_type": "stream",
     "text": [
      "Device 5 deleted from User 1 successfully!\n",
      "The device 5 has been deleted\n"
     ]
    }
   ],
   "source": [
    "device_id = remove_device(user_id=1, device_id=5)\n",
    "print(f\"The device {device_id} has been deleted\")"
   ]
  },
  {
   "cell_type": "code",
   "execution_count": 48,
   "id": "c0bc6e0f",
   "metadata": {
    "ExecuteTime": {
     "end_time": "2024-02-12T14:22:54.924708Z",
     "start_time": "2024-02-12T14:22:54.763094Z"
    }
   },
   "outputs": [
    {
     "name": "stdout",
     "output_type": "stream",
     "text": [
      "{'_id': ObjectId('65ca28ca6ac98da4ac21732f'),\n",
      " 'devices': [{'device_id': 1,\n",
      "              'device_manufacturer_name': 'Samsung',\n",
      "              'device_name': 'MySamsung',\n",
      "              'device_os_type': 'Android',\n",
      "              'device_registration_date': '12/02/2024'},\n",
      "             {'device_id': 2,\n",
      "              'device_manufacturer_name': 'Samsung',\n",
      "              'device_name': 'MySamsung',\n",
      "              'device_os_type': 'Android2',\n",
      "              'device_registration_date': '12/02/2024'}],\n",
      " 'system_joining_date': '12/02/2024',\n",
      " 'user_first_name': 'John',\n",
      " 'user_id': 1,\n",
      " 'user_last_name': 'Snow'}\n"
     ]
    }
   ],
   "source": [
    "a = users_collection.find_one({\"user_id\": 1})\n",
    "pprint.pprint(a)"
   ]
  },
  {
   "cell_type": "markdown",
   "id": "862dfdef",
   "metadata": {},
   "source": [
    "## remove user from conversation group function"
   ]
  },
  {
   "cell_type": "code",
   "execution_count": 49,
   "id": "5f84868d",
   "metadata": {
    "ExecuteTime": {
     "end_time": "2024-02-12T14:22:59.931436Z",
     "start_time": "2024-02-12T14:22:59.925350Z"
    }
   },
   "outputs": [],
   "source": [
    "## This operation is performed at a run time complexity of O(1) in redis only (as required).\n",
    "def remove_user_from_conversation_group(conversation_id, user_id):\n",
    "    users_in_converstaion = conversations_collection.find_one({\"conversation_id\": conversation_id})[\"user_group\"]['user_ids']\n",
    "    if user_id not in users_in_converstaion:\n",
    "        raise ValueError(f\"The user {user_id} is not in the conversation {conversation_id}\")\n",
    "    \n",
    "    #delete from mongo\n",
    "    conversations_collection.update_one({\"conversation_id\": conversation_id}, {\"$pull\": {\"user_group.user_ids\": user_id}})\n",
    "    \n",
    "    #delete from redis in O(1)\n",
    "    r.delete(f'group11:user_in_conv:conversation_id:{conversation_id}:user_id:{user_id}')\n",
    "    \n",
    "    #decrise the number of active conversations of this user by 1 (for report 1)\n",
    "    active_conversations_key = f'group11:user:{user_id}:active_conversations'\n",
    "    r.decr(active_conversations_key)\n",
    "    \n",
    "    print(f\"user {user_id} deleted from conversation {conversation_id} successfully!\")\n",
    "    return conversation_id"
   ]
  },
  {
   "cell_type": "code",
   "execution_count": 50,
   "id": "37703666",
   "metadata": {
    "ExecuteTime": {
     "end_time": "2024-02-12T14:23:04.787302Z",
     "start_time": "2024-02-12T14:23:04.163812Z"
    }
   },
   "outputs": [
    {
     "name": "stdout",
     "output_type": "stream",
     "text": [
      "user 2 deleted from conversation 1 successfully!\n",
      "The user has been deleted\n"
     ]
    }
   ],
   "source": [
    "conversation_id = remove_user_from_conversation_group(conversation_id=1, user_id=2)\n",
    "print(f\"The user has been deleted\")"
   ]
  },
  {
   "cell_type": "code",
   "execution_count": 51,
   "id": "ffd61b50",
   "metadata": {
    "ExecuteTime": {
     "end_time": "2024-02-12T14:23:07.382151Z",
     "start_time": "2024-02-12T14:23:07.215730Z"
    }
   },
   "outputs": [
    {
     "name": "stdout",
     "output_type": "stream",
     "text": [
      "{'_id': ObjectId('65ca291b6ac98da4ac217332'),\n",
      " 'conversation_id': 1,\n",
      " 'conversation_start_datetime': '12/02/2024 16:20',\n",
      " 'initiating_user_device_id': 1,\n",
      " 'initiating_user_id': 1,\n",
      " 'messages': [{'message_content': 'Hi everyone, it is great to join the '\n",
      "                                  'conversation!!!',\n",
      "               'message_datetime': '12/02/2024 16:21',\n",
      "               'message_id': 1,\n",
      "               'user_id': 1},\n",
      "              {'message_content': 'Hi everyone, it is great to join the '\n",
      "                                  'conversation!!!',\n",
      "               'message_datetime': '12/02/2024 16:21',\n",
      "               'message_id': 4,\n",
      "               'user_id': 1},\n",
      "              {'message_content': 'Hi everyone, it is great to join the '\n",
      "                                  'conversation!!!',\n",
      "               'message_datetime': '12/02/2024 16:21',\n",
      "               'message_id': 5,\n",
      "               'user_id': 2}],\n",
      " 'user_group': {'group_name': 'Friends', 'user_ids': [1, 3]}}\n"
     ]
    }
   ],
   "source": [
    "a = conversations_collection.find_one({\"conversation_id\": 1})\n",
    "pprint.pprint(a)"
   ]
  },
  {
   "cell_type": "markdown",
   "id": "3d92186a",
   "metadata": {},
   "source": [
    "# Reports"
   ]
  },
  {
   "cell_type": "markdown",
   "id": "645823b1",
   "metadata": {},
   "source": [
    "## show number of conversations function"
   ]
  },
  {
   "cell_type": "code",
   "execution_count": 52,
   "id": "f675b949",
   "metadata": {
    "ExecuteTime": {
     "end_time": "2024-02-12T14:23:11.713931Z",
     "start_time": "2024-02-12T14:23:11.707889Z"
    }
   },
   "outputs": [],
   "source": [
    "# Just return the counter... It has been implemented before\n",
    "def show_number_of_conversations(user_id):\n",
    "    active_conversations_key = f'group11:user:{user_id}:active_conversations'\n",
    "    return r.get(active_conversations_key)"
   ]
  },
  {
   "cell_type": "code",
   "execution_count": 55,
   "id": "693fe041",
   "metadata": {
    "ExecuteTime": {
     "end_time": "2024-02-12T14:23:20.430527Z",
     "start_time": "2024-02-12T14:23:20.277202Z"
    }
   },
   "outputs": [
    {
     "data": {
      "text/plain": [
       "'2'"
      ]
     },
     "execution_count": 55,
     "metadata": {},
     "output_type": "execute_result"
    }
   ],
   "source": [
    "show_number_of_conversations(1)"
   ]
  },
  {
   "cell_type": "markdown",
   "id": "d15853dd",
   "metadata": {},
   "source": [
    "## show most active user function"
   ]
  },
  {
   "cell_type": "code",
   "execution_count": 56,
   "id": "4398a75c",
   "metadata": {
    "ExecuteTime": {
     "end_time": "2024-02-12T14:23:23.014218Z",
     "start_time": "2024-02-12T14:23:23.009153Z"
    }
   },
   "outputs": [],
   "source": [
    "def show_most_active_user():\n",
    "    return r.get('group11:user:max_num_messages')"
   ]
  },
  {
   "cell_type": "code",
   "execution_count": 57,
   "id": "ff47a18e",
   "metadata": {
    "ExecuteTime": {
     "end_time": "2024-02-12T14:23:23.514865Z",
     "start_time": "2024-02-12T14:23:23.362036Z"
    }
   },
   "outputs": [
    {
     "data": {
      "text/plain": [
       "'1'"
      ]
     },
     "execution_count": 57,
     "metadata": {},
     "output_type": "execute_result"
    }
   ],
   "source": [
    "show_most_active_user()"
   ]
  },
  {
   "cell_type": "markdown",
   "id": "7947428e",
   "metadata": {},
   "source": [
    "## count conversations by device type"
   ]
  },
  {
   "cell_type": "code",
   "execution_count": 58,
   "id": "efef6207",
   "metadata": {
    "ExecuteTime": {
     "end_time": "2024-02-12T14:23:27.662969Z",
     "start_time": "2024-02-12T14:23:27.655455Z"
    }
   },
   "outputs": [],
   "source": [
    "def count_conversations_by_device_type():\n",
    "    pipeline = [\n",
    "        {\"$lookup\": {\n",
    "            \"from\": \"users\",\n",
    "            \"localField\": \"initiating_user_id\",\n",
    "            \"foreignField\": \"user_id\",\n",
    "            \"as\": \"user_info\"}},\n",
    "        \n",
    "        {\"$unwind\": \"$user_info\"},\n",
    "        {\"$unwind\": \"$user_info.devices\"},\n",
    "        {\"$match\": \n",
    "                 {\"$expr\": \n",
    "                    {\"$eq\": [\"$initiating_user_device_id\", \"$user_info.devices.device_id\"]}}},\n",
    "        {\"$group\": {\n",
    "            \"_id\": \"$user_info.devices.device_os_type\",\n",
    "            \"count\": {\"$sum\": 1}\n",
    "        }},\n",
    "        {\"$sort\": {\"count\": -1}}\n",
    "    ]\n",
    "    \n",
    "    result = conversations_collection.aggregate(pipeline)\n",
    "    df = pd.DataFrame(list(result))\n",
    "    \n",
    "    return df"
   ]
  },
  {
   "cell_type": "code",
   "execution_count": 60,
   "id": "ea5927b1",
   "metadata": {
    "ExecuteTime": {
     "end_time": "2024-02-12T14:23:43.966322Z",
     "start_time": "2024-02-12T14:23:43.802037Z"
    }
   },
   "outputs": [
    {
     "data": {
      "text/html": [
       "<div>\n",
       "<style scoped>\n",
       "    .dataframe tbody tr th:only-of-type {\n",
       "        vertical-align: middle;\n",
       "    }\n",
       "\n",
       "    .dataframe tbody tr th {\n",
       "        vertical-align: top;\n",
       "    }\n",
       "\n",
       "    .dataframe thead th {\n",
       "        text-align: right;\n",
       "    }\n",
       "</style>\n",
       "<table border=\"1\" class=\"dataframe\">\n",
       "  <thead>\n",
       "    <tr style=\"text-align: right;\">\n",
       "      <th></th>\n",
       "      <th>_id</th>\n",
       "      <th>count</th>\n",
       "    </tr>\n",
       "  </thead>\n",
       "  <tbody>\n",
       "    <tr>\n",
       "      <th>0</th>\n",
       "      <td>Android2</td>\n",
       "      <td>2</td>\n",
       "    </tr>\n",
       "    <tr>\n",
       "      <th>1</th>\n",
       "      <td>Android</td>\n",
       "      <td>1</td>\n",
       "    </tr>\n",
       "  </tbody>\n",
       "</table>\n",
       "</div>"
      ],
      "text/plain": [
       "        _id  count\n",
       "0  Android2      2\n",
       "1   Android      1"
      ]
     },
     "execution_count": 60,
     "metadata": {},
     "output_type": "execute_result"
    }
   ],
   "source": [
    "count_conversations_by_device_type()"
   ]
  },
  {
   "cell_type": "markdown",
   "id": "2e74802f",
   "metadata": {},
   "source": [
    "## top long conversations between dates"
   ]
  },
  {
   "cell_type": "code",
   "execution_count": 61,
   "id": "4250630a",
   "metadata": {
    "ExecuteTime": {
     "end_time": "2024-02-12T14:23:48.188380Z",
     "start_time": "2024-02-12T14:23:48.180573Z"
    }
   },
   "outputs": [],
   "source": [
    "def top_long_conversations_between_dates(start_date, end_date):\n",
    "    pipeline = [\n",
    "        {\"$match\": {\"$and\": [{\"conversation_start_datetime\": {\"$gte\": start_date, \"$lte\": end_date}},\n",
    "                              {\"conversation_end_datetime\": {\"$exists\": True}}]}},\n",
    "        {\"$project\": {\"_id\": 0,\n",
    "            \"conversation_id\": 1,\n",
    "            \"conversation_length\": {\"$subtract\": [\n",
    "                {\"$dateFromString\": {\"dateString\": \"$conversation_end_datetime\"}},\n",
    "                {\"$dateFromString\": {\"dateString\": \"$conversation_start_datetime\"}}]}}},\n",
    "        {\"$sort\": {\"conversation_length\": -1}},\n",
    "        {\"$limit\": 5}]\n",
    "    result = conversations_collection.aggregate(pipeline)\n",
    "\n",
    "    df = pd.DataFrame(list(result))\n",
    "    if df.empty:\n",
    "        return \"No conversations at this period of time\"\n",
    "    else:\n",
    "        return list(df[\"conversation_id\"])"
   ]
  },
  {
   "cell_type": "code",
   "execution_count": 62,
   "id": "3cc8a4c6",
   "metadata": {
    "ExecuteTime": {
     "end_time": "2024-02-12T14:23:48.861296Z",
     "start_time": "2024-02-12T14:23:48.701717Z"
    }
   },
   "outputs": [
    {
     "name": "stdout",
     "output_type": "stream",
     "text": [
      "The 5 longest conversations (or less if there are not 5) are: [2]\n"
     ]
    }
   ],
   "source": [
    "list_of_conversations = top_long_conversations_between_dates('04/01/2024', '15/02/2024')\n",
    "print(f\"The 5 longest conversations (or less if there are not 5) are: {list_of_conversations}\")"
   ]
  },
  {
   "cell_type": "markdown",
   "id": "2eb3b9aa",
   "metadata": {},
   "source": [
    "# Recovery"
   ]
  },
  {
   "cell_type": "markdown",
   "id": "607caca8",
   "metadata": {
    "code_folding": []
   },
   "source": [
    "## redis power failure function"
   ]
  },
  {
   "cell_type": "code",
   "execution_count": 63,
   "id": "2de0fca7",
   "metadata": {
    "ExecuteTime": {
     "end_time": "2024-02-12T14:23:55.159284Z",
     "start_time": "2024-02-12T14:23:55.154914Z"
    }
   },
   "outputs": [],
   "source": [
    "def redis_power_failure(r):\n",
    "  r.flushdb()\n",
    "  print(\"The redis info is gone :O\")"
   ]
  },
  {
   "cell_type": "code",
   "execution_count": 64,
   "id": "b770c5e9",
   "metadata": {
    "ExecuteTime": {
     "end_time": "2024-02-12T14:23:56.378905Z",
     "start_time": "2024-02-12T14:23:56.228800Z"
    }
   },
   "outputs": [
    {
     "name": "stdout",
     "output_type": "stream",
     "text": [
      "The redis info is gone :O\n"
     ]
    }
   ],
   "source": [
    "redis_power_failure(r)"
   ]
  },
  {
   "cell_type": "markdown",
   "id": "ab9d44a8",
   "metadata": {},
   "source": [
    "## recovery"
   ]
  },
  {
   "cell_type": "code",
   "execution_count": 65,
   "id": "6acfe067",
   "metadata": {
    "ExecuteTime": {
     "end_time": "2024-02-12T14:23:57.707863Z",
     "start_time": "2024-02-12T14:23:57.678187Z"
    }
   },
   "outputs": [],
   "source": [
    "def recovery():\n",
    "    # connect to redis back \"again\" and create a new redis instance\n",
    "    r = redis_connection()\n",
    "    print(\"---------------------------\")\n",
    "    print(\"Recovery from Mongo db has started\")\n",
    "    print(\"---------------------------\")\n",
    "    \n",
    "    \n",
    "    # find the larest user_id to keep the same indexing \n",
    "    pipeline = [{\"$group\": {\"_id\": None, \"max_user_id\": {\"$max\": \"$user_id\"}}}]\n",
    "    result = list(users_collection.aggregate(pipeline))\n",
    "    max_user_id = result[0][\"max_user_id\"] if result else 0\n",
    "    ## Set in Redis\n",
    "    r.set('group11:last_user_id', max_user_id)\n",
    "    print(f\"The last user id in the system is {max_user_id}\")\n",
    "    \n",
    "    \n",
    "    # find the larest device_id to keep the same indexing \n",
    "    pipeline = [{\"$unwind\": \"$devices\"},\n",
    "                {\"$group\": {\"_id\": None, \"max_device_id\": {\"$max\": \"$devices.device_id\"}}}]\n",
    "    result = list(users_collection.aggregate(pipeline))\n",
    "    max_device_id = result[0][\"max_device_id\"] if result else 0\n",
    "    ## Set in Redis\n",
    "    r.set('group11:last_device_id', max_device_id)\n",
    "    print(f\"The last device id in the system is {max_device_id}\")\n",
    "    \n",
    "    \n",
    "    # find the larest conversation_id to keep the same indexing \n",
    "    pipeline = [{\"$group\": {\"_id\": None, \"max_conversation_id\": {\"$max\": \"$conversation_id\"}}}]\n",
    "    result = list(conversations_collection.aggregate(pipeline))\n",
    "    max_conversation_id = result[0][\"max_conversation_id\"] if result else 0\n",
    "    ## Set in Redis\n",
    "    r.set('group11:last_conversation_id', max_conversation_id)\n",
    "    print(f\"The last conversation id in the system is {max_conversation_id}\")\n",
    "    \n",
    "    \n",
    "    # Define the pipeline for 'group11:user:{user_id}:active_conversations'\n",
    "    # filter where the conversation_end_datetime is null (which means it still exists)\n",
    "    # count active conversations for each user\n",
    "    pipeline = [\n",
    "        {\"$match\": {\"conversation_end_datetime\": None}},\n",
    "        {\"$unwind\": \"$user_group.user_ids\"},\n",
    "        {\"$group\": {\"_id\": \"$user_group.user_ids\", \"active_conversations\": {\"$sum\": 1}}}]\n",
    "    ## Set in Redis\n",
    "    for result in conversations_collection.aggregate(pipeline):\n",
    "        user_id = result[\"_id\"]\n",
    "        active_conversations = result[\"active_conversations\"]\n",
    "        redis_key = f\"group11:user:{user_id}:active_conversations\"\n",
    "        r.set(redis_key, active_conversations)\n",
    "    print(\"All users and their active conversations number have been added\") \n",
    "    \n",
    "        \n",
    "    # Define the pipeline to count messages for each user\n",
    "    pipeline = [\n",
    "        {\"$unwind\": \"$messages\"},\n",
    "        {\"$group\": {\"_id\": \"$messages.user_id\", \"num_messages\": {\"$sum\": 1}}},\n",
    "        {\"$sort\": {\"num_messages\": -1}},\n",
    "        {\"$limit\": 1}]\n",
    "    result = conversations_collection.aggregate(pipeline)\n",
    "    max_messages_user = next(result, None)\n",
    "    if max_messages_user:\n",
    "        user_id_with_max_messages = max_messages_user[\"_id\"]\n",
    "        max_num_messages = max_messages_user[\"num_messages\"]\n",
    "        r.set('group11:max_num_messages', max_num_messages)\n",
    "        r.set('group11:user:max_num_messages', user_id_with_max_messages)\n",
    "    else:\n",
    "        r.set('group11:max_num_messages', 0)\n",
    "    print(f\"The max num of messages is {max_num_messages} by user {user_id_with_max_messages}\") \n",
    "        \n",
    "        \n",
    "    # Iterate over all users and define the redis keys for users and user_devices \n",
    "    for user in users_collection.find():\n",
    "        user_id = user['user_id']\n",
    "        r.set(f'group11:user:user_id:{user_id}', user_id)\n",
    "        for device in user['devices']:\n",
    "            device_id = device['device_id']\n",
    "            key = f\"group11:devices:user_id:{user_id}:device_id:{device_id}\"\n",
    "            value = device_id\n",
    "            r.set(key, value)\n",
    "    print(\"All users have been added\") \n",
    "    print(\"All users' devices have been added\")  \n",
    "\n",
    "    \n",
    "    # Define the pipeline to set conversation status for each conversation in redis\n",
    "    pipeline = [\n",
    "        {\"$project\": {\"conversation_id\": 1, \"conversation_end_datetime\": 1}},\n",
    "        {\"$addFields\": {\n",
    "            \"conversation_status\": {\n",
    "                \"$cond\": {\n",
    "                    \"if\": {\"$eq\": [{\"$type\": \"$conversation_end_datetime\"}, \"missing\"]},\n",
    "                    \"then\": \"open\",\n",
    "                    \"else\": \"closed\"}}}}]  \n",
    "    result = conversations_collection.aggregate(pipeline)\n",
    "    for conversation in result:\n",
    "        conversation_id = conversation[\"conversation_id\"]\n",
    "        conversation_status = conversation[\"conversation_status\"]\n",
    "        # Set the 'group11:conversation:conversation_status:{conversation_id}' in Redis\n",
    "        r.set(f'group11:conversation:conversation_status:{conversation_id}', conversation_status)\n",
    "        # Set the 'group11:conversation:conversation_id:{new_id}' in Redis\n",
    "        r.set(f'group11:conversation:conversation_id:{conversation_id}', conversation_id) \n",
    "    print(\"All conversations' statuses have been added\")  \n",
    "        \n",
    "        \n",
    "    # Define the pipeline to unwind user_ids from the user group to set these values in redis\n",
    "    pipeline = [{\"$unwind\": \"$user_group.user_ids\"},\n",
    "                {\"$project\": {\"conversation_id\": 1, \"user_id\": \"$user_group.user_ids\"}}]\n",
    "    result = conversations_collection.aggregate(pipeline)\n",
    "    for doc in result:\n",
    "        conversation_id = doc[\"conversation_id\"]\n",
    "        user_id = doc[\"user_id\"]\n",
    "        # Set the redis instance for the user in the conversation\n",
    "        r.set(f'group11:user_in_conv:conversation_id:{conversation_id}:user_id:{user_id}', user_id)    \n",
    "    print(\"All users ids in conversations have been added\")     \n",
    "    \n",
    "    \n",
    "    # Find the largest message_id to keep same indexing\n",
    "    pipeline = [{\"$unwind\": \"$messages\"}, {\"$group\": {\"_id\": None, \"max_message_id\": {\"$max\": \"$messages.message_id\"}}}]\n",
    "    result = list(conversations_collection.aggregate(pipeline))\n",
    "    max_message_id = result[0][\"max_message_id\"] if result else 0\n",
    "    # Set the largest message_id in Redis\n",
    "    r.set('group11:last_message_id', max_message_id)\n",
    "    print(f\"The last message id in the system is {max_message_id}\")\n",
    "\n",
    "    \n",
    "    # Define the pipeline to unwind messages from each conversation to set these values in redis\n",
    "    pipeline = [{\"$unwind\": \"$messages\"},\n",
    "                {\"$project\": {\"message_id\": \"$messages.message_id\", \"message_content\": \"$messages.message_content\"}}]\n",
    "    result = conversations_collection.aggregate(pipeline)\n",
    "    for doc in result:\n",
    "        message_id = doc[\"message_id\"]\n",
    "        message_content = doc[\"message_content\"]\n",
    "        # Set the redis instance for the message\n",
    "        r.set(f'group11:message:message_id:{message_id}', message_content)\n",
    "    print(\"All messages have been added\")\n",
    "    print(\"---------------------------\")\n",
    "    print(\"---DONE---\")  \n",
    "    print(\"---------------------------\")\n",
    "\n",
    "    return \"All good - no worries\""
   ]
  },
  {
   "cell_type": "code",
   "execution_count": 66,
   "id": "6393e088",
   "metadata": {
    "ExecuteTime": {
     "end_time": "2024-02-12T14:24:05.859473Z",
     "start_time": "2024-02-12T14:23:58.517449Z"
    }
   },
   "outputs": [
    {
     "name": "stdout",
     "output_type": "stream",
     "text": [
      "---------------------------\n",
      "Recovery from Mongo db has started\n",
      "---------------------------\n",
      "The last user id in the system is 3\n",
      "The last device id in the system is 3\n",
      "The last conversation id in the system is 3\n",
      "All users and their active conversations number have been added\n",
      "The max num of messages is 4 by user 1\n",
      "All users have been added\n",
      "All users' devices have been added\n",
      "All conversations' statuses have been added\n",
      "All users ids in conversations have been added\n",
      "The last message id in the system is 5\n",
      "All messages have been added\n",
      "---------------------------\n",
      "---DONE---\n",
      "---------------------------\n"
     ]
    },
    {
     "data": {
      "text/plain": [
       "'All good - no worries'"
      ]
     },
     "execution_count": 66,
     "metadata": {},
     "output_type": "execute_result"
    }
   ],
   "source": [
    "recovery()"
   ]
  },
  {
   "cell_type": "markdown",
   "id": "747bb438",
   "metadata": {},
   "source": [
    "# Modeling description"
   ]
  },
  {
   "cell_type": "markdown",
   "id": "509babf5",
   "metadata": {},
   "source": [
    "In this implementation, both Redis and Mongo db are utilized for different purposes in managing and storing data as we discussed in class.\n",
    "\n",
    "All data is stored in the Mongo db and some of it also in the redis db (explained below).\n",
    "\n",
    "Mongo db serves as the primary database for storing structured data, while redis complements Mongo db by providing caching and efficient data access for specific use cases.\n",
    "\n",
    "Since we are not allowed to create more than 2 collections, we have decided on the 2 logical collections.\n",
    "The collections store various types of data related to users (including user's devices) and conversations (including messages).\n",
    "\n",
    "The users_collection stores information about users such as user ID, user name, user devices, and system joining date.\n",
    "\n",
    "The conversations_collection stores information about conversations, including conversation ID, participating users, start and end datetime, and messages exchanged within each conversation.\n",
    "\n",
    "\n",
    "Redis is used as a caching and key-value store to optimize specific operations that were requiered to be excecuted in O(1), save counters for the reports and improve performance.\n",
    "\n",
    "Redis is used to store the last user ID, last message ID, and other metadata required for efficient data retrieval and management.\n"
   ]
  },
  {
   "cell_type": "code",
   "execution_count": null,
   "id": "e5df7f52",
   "metadata": {},
   "outputs": [],
   "source": []
  }
 ],
 "metadata": {
  "kernelspec": {
   "display_name": "Python 3 (ipykernel)",
   "language": "python",
   "name": "python3"
  },
  "language_info": {
   "codemirror_mode": {
    "name": "ipython",
    "version": 3
   },
   "file_extension": ".py",
   "mimetype": "text/x-python",
   "name": "python",
   "nbconvert_exporter": "python",
   "pygments_lexer": "ipython3",
   "version": "3.11.5"
  },
  "toc": {
   "base_numbering": 1,
   "nav_menu": {},
   "number_sections": true,
   "sideBar": true,
   "skip_h1_title": false,
   "title_cell": "Table of Contents",
   "title_sidebar": "Contents",
   "toc_cell": false,
   "toc_position": {
    "height": "calc(100% - 180px)",
    "left": "10px",
    "top": "150px",
    "width": "480.057px"
   },
   "toc_section_display": true,
   "toc_window_display": true
  }
 },
 "nbformat": 4,
 "nbformat_minor": 5
}
